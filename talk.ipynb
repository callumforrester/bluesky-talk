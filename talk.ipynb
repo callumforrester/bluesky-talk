{
 "cells": [
  {
   "cell_type": "markdown",
   "metadata": {},
   "source": [
    "# Bluesky Data Collection Framework\n",
    "\n",
    "Callum Forrester"
   ]
  },
  {
   "cell_type": "markdown",
   "metadata": {},
   "source": [
    "## Bluesky\n",
    "\n",
    "- Family of software libraries developed by NSLS-II in Brookhaven, New York, USA.\n",
    "- Confusingly, also the name of one of those libraries!\n",
    "- Analysis-first data collection\n",
    "- Aimed at making it easy to programatically make a beamline produce diverse data/metadata to suit diverse analysis needs\n",
    "\n",
    "<img src=\"img/logo-bluesky.png\" width=\"500\"/>"
   ]
  },
  {
   "cell_type": "markdown",
   "metadata": {},
   "source": [
    "## NSLS-II\n",
    "- Operational since 2015\n",
    "- Storage ring nearly 800m in circumference\n",
    "\n",
    "<img src=\"img/nsls2.png\" width=\"500\"/>"
   ]
  },
  {
   "cell_type": "markdown",
   "metadata": {},
   "source": [
    "## Diamond Almost Fits Inside...\n",
    "\n",
    "<img src=\"img/nsls2-dls.png\" width=\"500\"/>"
   ]
  },
  {
   "cell_type": "markdown",
   "metadata": {},
   "source": [
    "## Bread & Butter of Data Collection\n",
    "\n",
    "- Control environment with actuators, record data with sensors/detectors\n",
    "- Classic example, move sample through beam with motors, take pictures of interfered beam with detector:\n",
    "\n",
    "<img src=\"img/scanning.svg\" width=\"1000\"/>\n",
    "<img src=\"img/graph.svg\" width=\"500\"/>"
   ]
  },
  {
   "cell_type": "markdown",
   "metadata": {},
   "source": [
    "## Beamline Software Stack\n",
    "\n",
    "<img src=\"img/stack.svg\" width=\"500\"/>"
   ]
  },
  {
   "cell_type": "markdown",
   "metadata": {},
   "source": [
    "## A Good DCS Should be...\n",
    "\n",
    "- Versatile\n",
    "    - Produce a wide variety of data\n",
    "    - Perform modular tasks that can be composed in different ways, no two experiments are the same\n",
    "- Scriptable in a scientist-friendly way\n",
    "    - Python\n",
    "    - Minimal boilerplate\n",
    "    - Balance of simplicity and expressiveness: beamlines are complicated\n",
    "- Balance of stability and innovation\n",
    "    - Provide common, plug-and-play functionality where possible\n",
    "    - Easy to write bespoke functionality where necessary\n",
    "    - Innovation happens in-situ, but also need a stable platform to fall back to to satify user demand\n",
    "    - Spectrum of users, some want a library, some want a big button that says go:\n",
    "\n",
    "<img src=\"img/spectrum.svg\" width=\"500\"/>\n",
    "    "
   ]
  },
  {
   "cell_type": "markdown",
   "metadata": {},
   "source": [
    "## Bluesky\n",
    "\n",
    "- Collection of components\n",
    "- Loosely coupled\n",
    "- Python libraries\n",
    "- Friendly to people who know the Python scientific ecosystem, numpy, scipy etc.\n",
    "\n",
    "<img src=\"img/bluesky.png\" width=\"500\"/>\n",
    "\n",
    "- Building blocks:\n",
    "    - Devices: Python abstractions of motors, detectors, etc.\n",
    "    - Plans: Instructions for sequencing complex actions\n",
    "    - Run Engine: Control object for running plans\n",
    "    - Events: Descriptions of data recorded, emitted by run engine"
   ]
  },
  {
   "cell_type": "markdown",
   "metadata": {},
   "source": [
    "## Devices\n",
    "\n",
    "- Defined interfaces\n",
    "    - `Readable`\n",
    "    - `Movable`\n",
    "    - `Flyable`\n",
    "    - `Stageable`\n",
    "    - `Checkable`\n",
    "- Can have any device library that follows these interfaces\n",
    "- NSLS-II have one called Ophyd (EPICS focused), there is nothing to stop you from writing your own"
   ]
  },
  {
   "cell_type": "code",
   "execution_count": null,
   "metadata": {},
   "outputs": [],
   "source": [
    "from ophyd.sim import SynAxis, Syn2DGauss\n",
    "\n",
    "x = SynAxis(name=\"x\", delay=0.1)\n",
    "y = SynAxis(name=\"y\", delay=0.1)\n",
    "det = Syn2DGauss(\n",
    "    \"det\",\n",
    "    x,\n",
    "    \"x\",\n",
    "    y,\n",
    "    \"y\",\n",
    "    center=(0, 0),\n",
    "    Imax=1,\n",
    "    labels={\"detectors\"},\n",
    ")\n"
   ]
  },
  {
   "cell_type": "code",
   "execution_count": null,
   "metadata": {},
   "outputs": [],
   "source": [
    "print(f\"x and y are at ({x.position}, {y.position})\")\n",
    "\n",
    "x.set(x.position + 10).wait()\n",
    "y.set(y.position + 5).wait()\n",
    "\n",
    "print(f\"x and y are now at ({x.position}, {y.position})\")"
   ]
  },
  {
   "cell_type": "markdown",
   "metadata": {},
   "source": [
    "## Plans\n",
    "\n",
    "- Iterable sequence of messages, instructions on what the beamline should do and what data should be recorded\n",
    "- The following are all valid plans:"
   ]
  },
  {
   "cell_type": "code",
   "execution_count": null,
   "metadata": {},
   "outputs": [],
   "source": [
    "from typing import Iterable\n",
    "from bluesky.utils import Msg\n",
    "\n",
    "\n",
    "# Empty plan:\n",
    "[]\n",
    "\n",
    "# Plan with two messages:\n",
    "[Msg(\"open_run\"), Msg(\"close_run\")]\n",
    "\n",
    "# Dyanmic plan\n",
    "def my_plan() -> Iterable[Msg]:\n",
    "    yield Msg(\"open_run\")\n",
    "    if 3 < 4:\n",
    "        yield Msg(\"checkpoint\")\n",
    "    yield Msg(\"close_run\")\n",
    "\n",
    "list(my_plan())"
   ]
  },
  {
   "cell_type": "markdown",
   "metadata": {},
   "source": [
    "## Events\n",
    "\n",
    "- Emitted when data recorded\n",
    "- Structured into \"runs\" "
   ]
  },
  {
   "cell_type": "code",
   "execution_count": null,
   "metadata": {},
   "outputs": [],
   "source": [
    "from typing import Dict\n",
    "\n",
    "import bluesky.plan_stubs as bps\n",
    "import bluesky.plans as bp\n",
    "\n",
    "from bluesky import RunEngine\n",
    "from pprint import pprint\n",
    "\n",
    "def print_event(name: str, doc: Dict) -> None:\n",
    "    pprint({name: doc})\n",
    "\n",
    "RE = RunEngine()\n",
    "RE(bp.count([det]), print_event)"
   ]
  },
  {
   "cell_type": "markdown",
   "metadata": {},
   "source": [
    "## Scanning\n",
    "\n",
    "- Change some variables, read other variables\n",
    "- Sample many points"
   ]
  },
  {
   "cell_type": "code",
   "execution_count": null,
   "metadata": {},
   "outputs": [],
   "source": [
    "%matplotlib notebook \n",
    "\n",
    "from bluesky.callbacks.best_effort import BestEffortCallback\n",
    "\n",
    "RE(bp.scan([det], x, -10, 10, 10), BestEffortCallback())"
   ]
  },
  {
   "cell_type": "markdown",
   "metadata": {},
   "source": [
    "## Custom Plans\n",
    "\n",
    "- Easy to write your own\n",
    "- Meant for doing bespoke science"
   ]
  },
  {
   "cell_type": "code",
   "execution_count": null,
   "metadata": {},
   "outputs": [],
   "source": [
    "def zoom_in(start_x: float, start_y: float, stop_x: float, stop_y: float, res: int):\n",
    "    # Scan given area\n",
    "    yield from bp.grid_scan([det], x, start_x, stop_x, res, y, start_y, stop_y, res)\n",
    "    \n",
    "    # Zoomed-in version\n",
    "    start_x += (stop_x - start_x) / 4\n",
    "    start_y += (stop_y - start_y) / 4\n",
    "    stop_x -= (stop_x - start_x) / 4\n",
    "    stop_y -= (stop_y - start_y) / 4\n",
    "    yield from bp.grid_scan([det], x, start_x, stop_x, res, y, start_y, stop_y, res)\n",
    "\n",
    "RE(zoom_in(-2, -2, 2, 2, 10), BestEffortCallback())"
   ]
  },
  {
   "cell_type": "markdown",
   "metadata": {},
   "source": [
    "## Adaptive Plans and Automation\n",
    "\n",
    "- Plans can be made to react to measurement results or changes in environment\n",
    "- Potential use for creating complicated, bespoke workflows\n",
    "- Interesting potential for beamline automation\n",
    "- MX particularly interested in this\n",
    "\n",
    "https://github.com/DiamondLightSource/python-artemis\n"
   ]
  },
  {
   "cell_type": "code",
   "execution_count": null,
   "metadata": {},
   "outputs": [],
   "source": [
    "import time\n",
    "from math import sin\n",
    "from ophyd.sim import SynPeriodicSignal\n",
    "\n",
    "# Create simulated temperature readout\n",
    "def sine_temp() -> float:\n",
    "    return sin(time.time()) * 10 + 15\n",
    "\n",
    "temperature = SynPeriodicSignal(sine_temp, name=\"temperature\")\n",
    "temperature.start_simulation()"
   ]
  },
  {
   "cell_type": "code",
   "execution_count": null,
   "metadata": {},
   "outputs": [],
   "source": [
    "from bluesky.callbacks import LivePlot\n",
    "\n",
    "RE(bp.count([temperature], num=50, delay=0.1), LivePlot(\"temperature\"))"
   ]
  },
  {
   "cell_type": "code",
   "execution_count": null,
   "metadata": {},
   "outputs": [],
   "source": [
    "from typing import List\n",
    "from dataclasses import dataclass\n",
    "\n",
    "from bluesky.preprocessors import monitor_during_decorator, suspend_decorator\n",
    "from bluesky.suspenders import SuspendWhenOutsideBand\n",
    "\n",
    "@dataclass\n",
    "class Instruction:\n",
    "    start: float\n",
    "    stop: float\n",
    "    steps: int\n",
    "\n",
    "def my_experiment(scans_to_do: List[Instruction], min_temp: float, max_temp: float):\n",
    "    suspender = SuspendWhenOutsideBand(temperature, min_temp, max_temp)\n",
    "\n",
    "    @suspend_decorator([suspender])\n",
    "    @monitor_during_decorator([temperature])\n",
    "    def do_scans():\n",
    "        for instruction in scans_to_do:\n",
    "            yield from bp.scan([det], x, instruction.start, instruction.stop, instruction.steps)\n",
    "\n",
    "    return (yield from do_scans())\n"
   ]
  },
  {
   "cell_type": "code",
   "execution_count": null,
   "metadata": {},
   "outputs": [],
   "source": [
    "scans = [\n",
    "    Instruction(-20., 20., 50),\n",
    "    Instruction(-5., 5., 50),\n",
    "    Instruction(7., 10., 20),\n",
    "    Instruction(-9., -8., 20),\n",
    "]\n",
    "\n",
    "RE(my_experiment(scans, 10., 22.), LivePlot(\"det\", \"x\"))"
   ]
  },
  {
   "cell_type": "markdown",
   "metadata": {},
   "source": [
    "## Comparison with Diamond's Data Collection System\n",
    "\n",
    "- GDA\n",
    "- Java application with a Jython interpreter for scripting\n",
    "- GUIs\n",
    "- Scannables and detectors\n",
    "\n",
    "<img src=\"img/gda.png\" width=\"1000\"/>"
   ]
  },
  {
   "cell_type": "markdown",
   "metadata": {},
   "source": [
    "## Why are we Interested in Bluesky?\n",
    "\n",
    "- Jython no longer supported\n",
    "- Restricted to Python 2\n",
    "- Hard to maintain a hybrid application, may be better to have a clean cut between Java and Python code\n",
    "- Hardware triggered scanning"
   ]
  },
  {
   "cell_type": "markdown",
   "metadata": {},
   "source": [
    "## Bluesky-as-a-Service\n",
    "\n",
    "- Controlled via REST API/GraphQL API/Message Bus\n",
    "- Takes commands and emits events\n",
    "- Easy to add new plans\n",
    "\n",
    "<img src=\"img/service.svg\" width=\"500\"/>\n",
    "\n",
    "Would like to be able to write\n",
    "\n",
    "```python\n",
    "def my_special_plan(detectors: List[Readable], motor: Movable, number_of_iterations: int = 3):\n",
    "    ...\n",
    "```\n",
    "\n",
    "And have it automatically converted to an endpoint\n",
    "\n",
    "#### Prototyping Work\n",
    "- NSLS-II: https://github.com/bluesky/bluesky-queueserver\n",
    "- DLS: https://gitlab.diamond.ac.uk/daq/d2acq/services/bluesky-service"
   ]
  },
  {
   "cell_type": "markdown",
   "metadata": {},
   "source": [
    "## Ophyd V2\n",
    "\n",
    "- https://github.com/dls-controls/ophyd\n",
    "- Early stages of development\n",
    "\n",
    "The main aims of this new version are:\n",
    "\n",
    "- Split into Devices (containing PV interface) and Abilities (containing the logic)\n",
    "\n",
    "```python\n",
    "@dataclass\n",
    "class Motor:\n",
    "    position: SignalRW[float]\n",
    "    velocity: SignalRW[float]\n",
    "    ...\n",
    "\n",
    "class MovableMotor:\n",
    "    motor: Motor\n",
    "    \n",
    "    async def set(self, pos: float) -> Status:\n",
    "        awaitable = self.motor.position.put(pos)\n",
    "        return Status(awaitable)\n",
    "```\n",
    "\n",
    "- Make all Abilities async\n",
    "```python\n",
    "await asyncio.wait([motor.set(3) for motor in [x, y, z]])\n",
    "```\n",
    "- Provide useful helpers for flyscans\n",
    "    - Quickly build `Flyable`s with a few lines of code\n",
    "    - Based on DLS Malcolm project\n"
   ]
  },
  {
   "cell_type": "code",
   "execution_count": null,
   "metadata": {},
   "outputs": [],
   "source": []
  }
 ],
 "metadata": {
  "interpreter": {
   "hash": "713a58d2caee1ce06f9e4f278104593a7351430c97999e987a3d599b72d7cd22"
  },
  "kernelspec": {
   "display_name": "Python 3 (ipykernel)",
   "language": "python",
   "name": "python3"
  },
  "language_info": {
   "codemirror_mode": {
    "name": "ipython",
    "version": 3
   },
   "file_extension": ".py",
   "mimetype": "text/x-python",
   "name": "python",
   "nbconvert_exporter": "python",
   "pygments_lexer": "ipython3",
   "version": "3.8.12"
  }
 },
 "nbformat": 4,
 "nbformat_minor": 2
}
